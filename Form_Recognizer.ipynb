{
 "cells": [
  {
   "cell_type": "markdown",
   "id": "b5e64b59",
   "metadata": {},
   "source": [
    "# Try Azure Form Recognizer with the Python SDK\n",
    "\n",
    "You can use Azure's Form Recognizer service to analyze and extract data from:\n",
    "* Forms\n",
    "* Invoices\n",
    "* Receipts\n",
    "* Business cards\n",
    "* ID documents (e.g. Passports, licences, etc.)\n",
    "\n",
    "In this notebook, you'll learn how to use the Form Recognizer Python SDK to call the service and manage the response -- all in 10 minutes or less. Each of the examples below read images/documents from data store on GitHub. However, with the Form Recognizer SDK, you can also analyze local images or files stored in Azure Blob storage, see [Python SDK reference for more info](https://docs.microsoft.com/en-us/python/api/azure-ai-formrecognizer/azure.ai.formrecognizer.formrecognizerclient?view=azure-python).\n",
    "\n",
    "**Note**: This notebook doesn't cover custom models, but we have a notebook for that as well. You can use custom models with any of the operations that you learn about and test in this notebook.\n"
   ]
  },
  {
   "cell_type": "markdown",
   "id": "4e7f571f",
   "metadata": {},
   "source": [
    "## Before you get started\n",
    "\n",
    "You'll need:\n",
    "\n",
    "* An [Azure subscription](https://azure.microsoft.com/en-us/free/cognitive-services/)\n",
    "* An [Azure Form Recognizer resource](https://ms.portal.azure.com/#create/Microsoft.CognitiveServicesFormRecognizer) in the Free (F0) or Standard (S0) pricing tier. Both will work for this notebook\n",
    "* Install the Form Recognizer client library to your environment. We strongly recommend that you run all of these notebooks in a virtual environment (virtualenv, venv, pyenv, pipenv, etc.). Run this command from your terminal/command line: `pip install azure-ai-formrecognizer --pre`."
   ]
  },
  {
   "cell_type": "markdown",
   "id": "0542fbba",
   "metadata": {},
   "source": [
    "## Data sources\n",
    "\n",
    "In this notebook, we're going to analyze images stored in a Github repository. However, with Form Recognizer you can also read files from Azure Blob Storage or a URI location, as well as locally. \n",
    "\n",
    "* To read from an Azure Blob Storage SAS or URI location, you can use the methods we go over in this notebook. \n",
    "* to read from a local file, see [reference](#reference)."
   ]
  },
  {
   "cell_type": "markdown",
   "id": "b22344a5",
   "metadata": {},
   "source": [
    "## Import modules\n",
    "\n",
    "The first thing we need to do is import a few modules. Here's what they are and what you'll use them for:\n",
    "\n",
    "1. `os` - This module is used to interact with the operating system using Python.\n",
    "2. `azure.core.exceptions`\n",
    "   * `ResourceNotFoundError` - An error response, typically triggered by a 412 response (for update) or 404 (for get/post).\n",
    "3. `azure.ai.formrecognizer` - This module includes all Form Recognizer classes and components, like the `FormRecognizerClient` and `FormRecognizerTrainingClient`.\n",
    "   * `FormRecognizerClient` - Used to create a Form Recognizer client which you'll use to interact with the service.\n",
    "4. `azure.core.credentials` - This module is what's used to manage Azure credentials. Specificially, we are using `AzureKeyCredentials`.\n",
    "   * `AzureKeyCredentials` - Provides the ability to update the key without creating a new client."
   ]
  },
  {
   "cell_type": "code",
   "execution_count": null,
   "id": "0b177a6c",
   "metadata": {},
   "outputs": [],
   "source": [
    "import os\n",
    "from azure.core.exceptions import ResourceNotFoundError\n",
    "from azure.ai.formrecognizer import FormRecognizerClient\n",
    "from azure.ai.formrecognizer import FormTrainingClient\n",
    "from azure.core.credentials import AzureKeyCredential"
   ]
  },
  {
   "cell_type": "markdown",
   "id": "784d4d81",
   "metadata": {},
   "source": [
    "## Create a Form Recognizer client\n",
    "\n",
    "Let's create a Form Recognizer client, which we'll use to send requests and get responses. \n",
    "\n",
    "Before you continue, you'll need to add the endpoint and key from your Form Recognizer resources. Both of these are available in the Azure portal in the resource you've created in the **Keys and endpoints** blade.\n",
    "\n",
    "* `endpoint` - The region for your Form Recognizer resource. For example: \"https://YOUR-NAME.cognitiveservices.azure.com/\"\n",
    "* `key` - The key for your Form Recognizer resource. "
   ]
  },
  {
   "cell_type": "code",
   "execution_count": null,
   "id": "f97dc866",
   "metadata": {},
   "outputs": [],
   "source": [
    "endpoint = 'PASTE_YOUR_FORM_RECOGNIZER_ENDPOINT'\n",
    "key = 'PASTE_YOUR_FORM_RECOGNIZER_KEY'"
   ]
  },
  {
   "cell_type": "code",
   "execution_count": null,
   "id": "44e23359",
   "metadata": {},
   "outputs": [],
   "source": [
    "form_recognizer_client = FormRecognizerClient(endpoint, AzureKeyCredential(key))"
   ]
  },
  {
   "cell_type": "markdown",
   "id": "f252abe8",
   "metadata": {},
   "source": [
    "## Analyze the layout of a document\n",
    "\n",
    "Here we're going to analyze a purchase order document. With the `begin_recognize_content_from_url()` method, we can pass an image to the Form Recognizer service, and get a response that includes:\n",
    "\n",
    "* Tables identified in the document\n",
    "* Text identified in each cell of the document\n",
    "* The location of a cell \n",
    "* And a confidence score from the service that gives you an idea of the perceived accuracy of the identification as determined by the service. The closer a score is to `1` the higher the accuracy of the recognition result.\n",
    "\n",
    "We're going to analyze an [image in the Azure samples repository](https://raw.githubusercontent.com/Azure/azure-sdk-for-python/master/sdk/formrecognizer/azure-ai-formrecognizer/tests/sample_forms/forms/Form_1.jpg), but feel free to test with your own documents.\n"
   ]
  },
  {
   "cell_type": "code",
   "execution_count": null,
   "id": "ee23e9f1",
   "metadata": {},
   "outputs": [],
   "source": [
    "sample_form = \"https://raw.githubusercontent.com/Azure/azure-sdk-for-python/master/sdk/formrecognizer/azure-ai-formrecognizer/tests/sample_forms/forms/Form_1.jpg\"\n",
    "\n",
    "poller = form_recognizer_client.begin_recognize_content_from_url(sample_form)\n",
    "page = poller.result()\n",
    "\n",
    "table = page[0].tables[0] # page 1, table 1\n",
    "print(\"Table found on page {}:\".format(table.page_number))\n",
    "for cell in table.cells:\n",
    "    print(\"Cell text: {}\".format(cell.text))\n",
    "    print(\"Location: {}\".format(cell.bounding_box))\n",
    "    print(\"Confidence score: {}\\n\".format(cell.confidence))"
   ]
  },
  {
   "cell_type": "markdown",
   "id": "282b4e6d",
   "metadata": {},
   "source": [
    "## Extract data from invoices\n",
    "\n",
    "Here we're going to analyze an invoice. With the `begin_recognize_invoices_from_url()` method, we can pass an image to the Form Recognizer service, and get a response that includes:\n",
    "\n",
    "* Vendor name\n",
    "* Vendor address\n",
    "* Customer name\n",
    "* Customer address\n",
    "* Customer sddress recipient\n",
    "* Invoice ID\n",
    "* Invoice date\n",
    "* Invoice total\n",
    "* Due date\n",
    "* Confidence score\n",
    "\n",
    "We're going to analyze an [invoice in the Azure samples repository](https://raw.githubusercontent.com/Azure-Samples/cognitive-services-REST-api-samples/master/curl/form-recognizer/simple-invoice.png), but feel free to test with your own invoice."
   ]
  },
  {
   "cell_type": "code",
   "execution_count": null,
   "id": "aa6bfd54",
   "metadata": {},
   "outputs": [],
   "source": [
    "sample_invoice = \"https://raw.githubusercontent.com/Azure-Samples/cognitive-services-REST-api-samples/master/curl/form-recognizer/simple-invoice.png\"\n",
    "\n",
    "poller = form_recognizer_client.begin_recognize_invoices_from_url(sample_invoice)\n",
    "invoices = poller.result()\n",
    "\n",
    "for idx, invoice in enumerate(invoices):\n",
    "    print(\"--------Recognizing invoice #{}--------\".format(idx+1))\n",
    "    vendor_name = invoice.fields.get(\"VendorName\")\n",
    "    if vendor_name:\n",
    "        print(\"Vendor Name: {} has confidence: {}\".format(vendor_name.value, vendor_name.confidence))\n",
    "    vendor_address = invoice.fields.get(\"VendorAddress\")\n",
    "    if vendor_address:\n",
    "        print(\"Vendor Address: {} has confidence: {}\".format(vendor_address.value, vendor_address.confidence))\n",
    "    customer_name = invoice.fields.get(\"CustomerName\")\n",
    "    if customer_name:\n",
    "        print(\"Customer Name: {} has confidence: {}\".format(customer_name.value, customer_name.confidence))\n",
    "    customer_address = invoice.fields.get(\"CustomerAddress\")\n",
    "    if customer_address:\n",
    "        print(\"Customer Address: {} has confidence: {}\".format(customer_address.value, customer_address.confidence))\n",
    "    customer_address_recipient = invoice.fields.get(\"CustomerAddressRecipient\")\n",
    "    if customer_address_recipient:\n",
    "        print(\"Customer Address Recipient: {} has confidence: {}\".format(customer_address_recipient.value, customer_address_recipient.confidence))\n",
    "    invoice_id = invoice.fields.get(\"InvoiceId\")\n",
    "    if invoice_id:\n",
    "        print(\"Invoice Id: {} has confidence: {}\".format(invoice_id.value, invoice_id.confidence))\n",
    "    invoice_date = invoice.fields.get(\"InvoiceDate\")\n",
    "    if invoice_date:\n",
    "        print(\"Invoice Date: {} has confidence: {}\".format(invoice_date.value, invoice_date.confidence))\n",
    "    invoice_total = invoice.fields.get(\"InvoiceTotal\")\n",
    "    if invoice_total:\n",
    "        print(\"Invoice Total: {} has confidence: {}\".format(invoice_total.value, invoice_total.confidence))\n",
    "    due_date = invoice.fields.get(\"DueDate\")\n",
    "    if due_date:\n",
    "        print(\"Due Date: {} has confidence: {}\".format(due_date.value, due_date.confidence))"
   ]
  },
  {
   "cell_type": "markdown",
   "id": "1f642d9f",
   "metadata": {},
   "source": [
    "## Extract data from receipts\n",
    "\n",
    "Here we're going to analyze a receipt. With the `begin_recognize_receipts_from_url()` method, we can pass a receipt to the Form Recognizer service, and get a response that includes:\n",
    "\n",
    "* Confidence score\n",
    "* Merchant name\n",
    "* Merchant address\n",
    "* Merchant phone number\n",
    "* Transaction date\n",
    "* Transaction time\n",
    "* Receipt items\n",
    "* Subtotal\n",
    "* Tax\n",
    "* Total\n",
    "\n",
    "We're going to analyze a [receipt in the Azure samples repository](https://raw.githubusercontent.com/Azure/azure-sdk-for-python/master/sdk/formrecognizer/azure-ai-formrecognizer/tests/sample_forms/receipt/contoso-receipt.png), but feel free to test with your own receipts.\n"
   ]
  },
  {
   "cell_type": "code",
   "execution_count": null,
   "id": "f40112b7",
   "metadata": {},
   "outputs": [],
   "source": [
    "sample_receipt = \"https://raw.githubusercontent.com/Azure/azure-sdk-for-python/master/sdk/formrecognizer/azure-ai-formrecognizer/tests/sample_forms/receipt/contoso-receipt.png\"\n",
    "\n",
    "poller = form_recognizer_client.begin_recognize_receipts_from_url(sample_receipt)\n",
    "result = poller.result()\n",
    "\n",
    "for receipt in result:\n",
    "    for name, field in receipt.fields.items():\n",
    "        if name == \"Items\":\n",
    "            print(\"Receipt Items:\")\n",
    "            for idx, items in enumerate(field.value):\n",
    "                print(\"...Item #{}\".format(idx + 1))\n",
    "                for item_name, item in items.value.items():\n",
    "                    print(\"......{}: {} has confidence {}\".format(item_name, item.value, item.confidence))\n",
    "        else:\n",
    "            print(\"{}: {} has confidence {}\".format(name, field.value, field.confidence))"
   ]
  },
  {
   "cell_type": "markdown",
   "id": "770fa206",
   "metadata": {},
   "source": [
    "## Extract data from business cards\n",
    "\n",
    "Here we're going to extract data from a busioness card. With the `begin_recognize_business_cards_from_url()` method, we can pass a business card to the Form Recognizer service, and get a response that includes:\n",
    "\n",
    "* Contact First Name\n",
    "* Contact Last Name\n",
    "* Company Name\n",
    "* Department\n",
    "* Job Title\n",
    "* Email\n",
    "* Website\n",
    "* Address\n",
    "* Mobile phone number\n",
    "* Fax number\n",
    "* Other phone number\n",
    "\n",
    "We're going to analyze a [business card in the Azure samples repository](https://raw.githubusercontent.com/Azure/azure-sdk-for-python/master/sdk/formrecognizer/azure-ai-formrecognizer/samples/sample_forms/business_cards/business-card-english.jpg), but feel free to test with your own business card image."
   ]
  },
  {
   "cell_type": "code",
   "execution_count": null,
   "id": "8b31426e",
   "metadata": {},
   "outputs": [],
   "source": [
    "sample_biz_card = \"https://raw.githubusercontent.com/Azure/azure-sdk-for-python/master/sdk/formrecognizer/azure-ai-formrecognizer/samples/sample_forms/business_cards/business-card-english.jpg\"\n",
    "\n",
    "poller = form_recognizer_client.begin_recognize_business_cards_from_url(sample_biz_card)\n",
    "business_cards = poller.result()\n",
    "\n",
    "for idx, business_card in enumerate(business_cards):\n",
    "    print(\"--------Recognizing business card #{}--------\".format(idx+1))\n",
    "    contact_names = business_card.fields.get(\"ContactNames\")\n",
    "    if contact_names:\n",
    "        for contact_name in contact_names.value:\n",
    "            print(\"Contact First Name: {} has confidence: {}\".format(\n",
    "                contact_name.value[\"FirstName\"].value, contact_name.value[\"FirstName\"].confidence\n",
    "            ))\n",
    "            print(\"Contact Last Name: {} has confidence: {}\".format(\n",
    "                contact_name.value[\"LastName\"].value, contact_name.value[\"LastName\"].confidence\n",
    "            ))\n",
    "    company_names = business_card.fields.get(\"CompanyNames\")\n",
    "    if company_names:\n",
    "        for company_name in company_names.value:\n",
    "            print(\"Company Name: {} has confidence: {}\".format(company_name.value, company_name.confidence))\n",
    "    departments = business_card.fields.get(\"Departments\")\n",
    "    if departments:\n",
    "        for department in departments.value:\n",
    "            print(\"Department: {} has confidence: {}\".format(department.value, department.confidence))\n",
    "    job_titles = business_card.fields.get(\"JobTitles\")\n",
    "    if job_titles:\n",
    "        for job_title in job_titles.value:\n",
    "            print(\"Job Title: {} has confidence: {}\".format(job_title.value, job_title.confidence))\n",
    "    emails = business_card.fields.get(\"Emails\")\n",
    "    if emails:\n",
    "        for email in emails.value:\n",
    "            print(\"Email: {} has confidence: {}\".format(email.value, email.confidence))\n",
    "    websites = business_card.fields.get(\"Websites\")\n",
    "    if websites:\n",
    "        for website in websites.value:\n",
    "            print(\"Website: {} has confidence: {}\".format(website.value, website.confidence))\n",
    "    addresses = business_card.fields.get(\"Addresses\")\n",
    "    if addresses:\n",
    "        for address in addresses.value:\n",
    "            print(\"Address: {} has confidence: {}\".format(address.value, address.confidence))\n",
    "    mobile_phones = business_card.fields.get(\"MobilePhones\")\n",
    "    if mobile_phones:\n",
    "        for phone in mobile_phones.value:\n",
    "            print(\"Mobile phone number: {} has confidence: {}\".format(phone.value, phone.confidence))\n",
    "    faxes = business_card.fields.get(\"Faxes\")\n",
    "    if faxes:\n",
    "        for fax in faxes.value:\n",
    "            print(\"Fax number: {} has confidence: {}\".format(fax.value, fax.confidence))\n",
    "    work_phones = business_card.fields.get(\"WorkPhones\")\n",
    "    if work_phones:\n",
    "        for work_phone in work_phones.value:\n",
    "            print(\"Work phone number: {} has confidence: {}\".format(work_phone.value, work_phone.confidence))\n",
    "    other_phones = business_card.fields.get(\"OtherPhones\")\n",
    "    if other_phones:\n",
    "        for other_phone in other_phones.value:\n",
    "            print(\"Other phone number: {} has confidence: {}\".format(other_phone.value, other_phone.confidence))"
   ]
  },
  {
   "cell_type": "markdown",
   "id": "259356ca",
   "metadata": {},
   "source": [
    "## Reference\n",
    "\n",
    "There is a lot more that you can do with Azure Form Recognizer. To deep dive on specific operations, see [Python SDK reference](https://docs.microsoft.com/en-us/python/api/azure-ai-formrecognizer/?view=azure-python)."
   ]
  },
  {
   "cell_type": "markdown",
   "id": "8f347623",
   "metadata": {},
   "source": [
    "## Sample code\n",
    "\n",
    "* Sample code used in this notebook is also available in the [Python SDK repository](https://github.com/Azure/azure-sdk-for-python/tree/master/sdk/formrecognizer/azure-ai-formrecognizer)\n",
    "* Learn how to get started in C#, Java, and JavaScript on [Microsoft Docs](https://docs.microsoft.com/en-us/azure/cognitive-services/form-recognizer/quickstarts/client-library)."
   ]
  },
  {
   "cell_type": "markdown",
   "id": "a266878d",
   "metadata": {},
   "source": [
    "## Learn more about customization"
   ]
  },
  {
   "cell_type": "markdown",
   "id": "6cbd90b3",
   "metadata": {},
   "source": [
    "Coming soon... "
   ]
  }
 ],
 "metadata": {
  "kernelspec": {
   "display_name": "Python 3",
   "language": "python",
   "name": "python3"
  },
  "language_info": {
   "codemirror_mode": {
    "name": "ipython",
    "version": 3
   },
   "file_extension": ".py",
   "mimetype": "text/x-python",
   "name": "python",
   "nbconvert_exporter": "python",
   "pygments_lexer": "ipython3",
   "version": "3.9.2"
  }
 },
 "nbformat": 4,
 "nbformat_minor": 5
}
